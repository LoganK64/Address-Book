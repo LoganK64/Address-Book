{
  "cells": [
    {
      "cell_type": "markdown",
      "metadata": {
        "id": "view-in-github",
        "colab_type": "text"
      },
      "source": [
        "<a href=\"https://colab.research.google.com/github/LoganK64/Address-Book/blob/master/Project_Notebook.ipynb\" target=\"_parent\"><img src=\"https://colab.research.google.com/assets/colab-badge.svg\" alt=\"Open In Colab\"/></a>"
      ]
    },
    {
      "cell_type": "markdown",
      "metadata": {
        "id": "aElinNB1YUS4"
      },
      "source": [
        "#### Christopher Plummer\n",
        "#### Logan Keim\n",
        "#### Joel Karumathy\n",
        "#### CSCE-489-502\n",
        "#### Prof. Carlisle\n",
        "#### 11/15/2021\n"
      ]
    },
    {
      "cell_type": "code",
      "execution_count": null,
      "metadata": {
        "id": "QwyeGBt7beia",
        "colab": {
          "base_uri": "https://localhost:8080/"
        },
        "outputId": "fd0df846-87e5-48be-9110-e368d336eba1"
      },
      "outputs": [
        {
          "output_type": "stream",
          "name": "stdout",
          "text": [
            "Drive already mounted at /content/gdrive; to attempt to forcibly remount, call drive.mount(\"/content/gdrive\", force_remount=True).\n",
            "/content/gdrive/Shareddrives/Data Analytics for Cyber Project\n",
            "Found GPU at: /device:GPU:0\n"
          ]
        }
      ],
      "source": [
        "import csv\n",
        "import math\n",
        "import torch\n",
        "import numpy as np\n",
        "import statistics as stat\n",
        "from matplotlib import pyplot as plt\n",
        "\n",
        "# Mount Drive Folder\n",
        "from google.colab import drive\n",
        "drive.mount('/content/gdrive')\n",
        "%cd \"/content/gdrive/Shareddrives/Data Analytics for Cyber Project\"\n",
        "\n",
        "# Use GPU to help speed up calculations if available\n",
        "# DEVICE = 'cuda' if torch.cuda.is_available() else 'cpu'\n",
        "%tensorflow_version 2.x\n",
        "import tensorflow as tf\n",
        "device_name = tf.test.gpu_device_name()\n",
        "if device_name != '/device:GPU:0':\n",
        "  raise SystemError('GPU device not found')\n",
        "print('Found GPU at: {}'.format(device_name))\n"
      ]
    },
    {
      "cell_type": "markdown",
      "metadata": {
        "id": "luipG_de14Ag"
      },
      "source": [
        "**PARSE DATASET**"
      ]
    },
    {
      "cell_type": "code",
      "execution_count": null,
      "metadata": {
        "id": "vDMTpmPKghjb"
      },
      "outputs": [],
      "source": [
        "phishing_features    = []\n",
        "nonphishing_features = []\n",
        "phish   = []\n",
        "train_x = []\n",
        "train_y = []\n",
        "test_x  = []\n",
        "test_y  = []"
      ]
    },
    {
      "cell_type": "code",
      "execution_count": null,
      "metadata": {
        "id": "4WtPIQNqmU9T"
      },
      "outputs": [],
      "source": [
        "# Put phishing dataset features into array.\n",
        "# All Y values for this dataset are true (because each email is phishing)\n",
        "with open('phishing.csv', mode = 'r') as file:\n",
        "    csvFile = csv.reader(file)\n",
        "    next(csvFile)\n",
        "    for line in csvFile:\n",
        "      phishing_features.append(line[1:12])\n",
        "      phish.append(1)\n",
        "\n",
        "# Put non-phishing dataset features into array.\n",
        "# All Y values for this dataset are false\n",
        "with open('nonPhishing.csv', mode = 'r') as file:\n",
        "    csvFile = csv.reader(file)\n",
        "    next(csvFile)\n",
        "    for line in csvFile:\n",
        "      nonphishing_features.append(line[1:12])\n",
        "      phish.append(0)"
      ]
    },
    {
      "cell_type": "markdown",
      "metadata": {
        "id": "uzIUNsjG1wFG"
      },
      "source": [
        "**TRAIN TEST SPLIT**"
      ]
    },
    {
      "cell_type": "code",
      "execution_count": null,
      "metadata": {
        "id": "ycF0lGEIn7Tg"
      },
      "outputs": [],
      "source": [
        "from sklearn.model_selection import train_test_split\n",
        "dataset = phishing_features + nonphishing_features\n",
        "train_x, test_x, train_y, test_y = train_test_split(dataset, phish, random_state=42)"
      ]
    },
    {
      "cell_type": "markdown",
      "metadata": {
        "id": "tIoQLU2Q1od7"
      },
      "source": [
        "**RANDOM FORREST CLASSIFIER**"
      ]
    },
    {
      "cell_type": "code",
      "execution_count": null,
      "metadata": {
        "id": "sqxf4tvAt-Tw"
      },
      "outputs": [],
      "source": [
        "from sklearn.ensemble import RandomForestClassifier\n",
        "rfcModel = RandomForestClassifier(n_estimators = 100)\n",
        "def rfc_fit():\n",
        "  with tf.device('/device:GPU:0'):\n",
        "    rfcModel.fit(train_x,train_y)\n",
        "\n",
        "rfc_fit()"
      ]
    },
    {
      "cell_type": "markdown",
      "metadata": {
        "id": "Unt1UiSa9b5O"
      },
      "source": [
        "**RFC CONFUSION MATRIX / CLASSIFICATION REPORT**"
      ]
    },
    {
      "cell_type": "code",
      "execution_count": null,
      "metadata": {
        "colab": {
          "base_uri": "https://localhost:8080/",
          "height": 712
        },
        "id": "_Ac5GBrvuw1Z",
        "outputId": "eb95574e-cc73-459b-bbcc-d2fd7b59b286"
      },
      "outputs": [
        {
          "output_type": "stream",
          "name": "stdout",
          "text": [
            "--- RFC Confusion Matrix ---\n",
            "[[677   3]\n",
            " [ 14 355]]\n",
            "\n",
            "\n",
            "--- RFC Results ---\n",
            "True  Negatives  : 677\n",
            "False Positives  : 3\n",
            "False Negatives  : 14\n",
            "True  Positives  : 355\n",
            "False Positive Rate  :  0.004411764705882353\n",
            "False Negative Rate  :  0.037940379403794036\n",
            "\n",
            "--- RFC Classification Report  ---\n",
            "              precision    recall  f1-score   support\n",
            "\n",
            "           0       0.98      1.00      0.99       680\n",
            "           1       0.99      0.96      0.98       369\n",
            "\n",
            "    accuracy                           0.98      1049\n",
            "   macro avg       0.99      0.98      0.98      1049\n",
            "weighted avg       0.98      0.98      0.98      1049\n",
            "\n",
            "\n"
          ]
        },
        {
          "output_type": "display_data",
          "data": {
            "image/png": "[encoded data removed]",
            "text/plain": [
              "<Figure size 432x288 with 2 Axes>"
            ]
          },
          "metadata": {
            "needs_background": "light"
          }
        }
      ],
      "source": [
        "from sklearn import metrics\n",
        "from sklearn.metrics import confusion_matrix\n",
        "from sklearn.metrics import ConfusionMatrixDisplay\n",
        "\n",
        "print(\"--- RFC Confusion Matrix ---\")\n",
        "ypredRFC = rfcModel.predict(test_x)\n",
        "confused=confusion_matrix(test_y, ypredRFC)\n",
        "\n",
        "matrixImg = ConfusionMatrixDisplay.from_estimator(\n",
        "    rfcModel,\n",
        "    test_x,\n",
        "    test_y,\n",
        "    cmap=plt.cm.Greens,\n",
        ")\n",
        "matrixImg.ax_.set_title(\"RFC Confusion Matrix\")\n",
        "print(matrixImg.confusion_matrix)\n",
        "print()\n",
        "\n",
        "print()\n",
        "print(\"--- RFC Results ---\")\n",
        "print(\"True  Negatives  : \" + str(confused[0][0]))\n",
        "print(\"False Positives  : \" + str(confused[0][1]))\n",
        "print(\"False Negatives  : \" + str(confused[1][0]))\n",
        "print(\"True  Positives  : \" + str(confused[1][1]))\n",
        "print(\"False Positive Rate  : \", confused[0][1]/(confused[0][1]+confused[0][0]))\n",
        "print(\"False Negative Rate  : \", confused[1][0]/(confused[1][0]+confused[1][1]))\n",
        "\n",
        "print()\n",
        "print(\"--- RFC Classification Report  ---\")\n",
        "print(metrics.classification_report(test_y, ypredRFC))\n",
        "print()\n",
        "\n",
        "# tn, fp, fn, tp = confused.ravel()\n",
        "# print(\"| TN: \", tn, \"| FP: \", fp , \"| FN: \", fn, \"| TP: \", tp, \"|\")\n"
      ]
    },
    {
      "cell_type": "code",
      "execution_count": null,
      "metadata": {
        "colab": {
          "base_uri": "https://localhost:8080/"
        },
        "id": "q-JdH6raKHn7",
        "outputId": "d716208c-079a-4d8f-c85a-b29eb03ad577"
      },
      "outputs": [
        {
          "output_type": "stream",
          "name": "stdout",
          "text": [
            "20-Fold: Mean: 0.978850307374566  Std Dev: 0.022117099276346728\n",
            "10-Fold: Mean: 0.9809362046304722  Std Dev: 0.008159688024582943\n",
            "5-Fold: Mean: 0.9802164291341938  Std Dev: 0.0029997859316823754\n",
            "No Cross Validation: Mean: 0.978312397041212  Std Dev: 0.0036630722216674763\n"
          ]
        }
      ],
      "source": [
        "from sklearn.model_selection import cross_val_score\n",
        "\n",
        "def rfc_scores():\n",
        "  with tf.device('/device:GPU:0'):\n",
        "    scores = cross_val_score(rfcModel, train_x, train_y, cv = 20, scoring='precision')\n",
        "    print(\"20-Fold: Mean:\", scores.mean(), \" Std Dev:\", scores.std())\n",
        "\n",
        "    scores = cross_val_score(rfcModel, train_x, train_y, cv = 10, scoring='accuracy')\n",
        "    print(\"10-Fold: Mean:\", scores.mean(), \" Std Dev:\", scores.std())\n",
        "\n",
        "    scores = cross_val_score(rfcModel, train_x, train_y, cv = 5, scoring='precision')\n",
        "    print(\"5-Fold: Mean:\", scores.mean(), \" Std Dev:\", scores.std())\n",
        "\n",
        "    scores = cross_val_score(rfcModel, train_x, train_y, scoring='precision')\n",
        "    print(\"No Cross Validation: Mean:\", scores.mean(), \" Std Dev:\", scores.std())\n",
        "\n",
        "rfc_scores()"
      ]
    },
    {
      "cell_type": "markdown",
      "metadata": {
        "id": "CCF6bWYZIHF2"
      },
      "source": [
        "**Support Vector Machine Classifier**\n",
        "\n"
      ]
    },
    {
      "cell_type": "code",
      "execution_count": null,
      "metadata": {
        "id": "TGtihDYFUog2"
      },
      "outputs": [],
      "source": [
        "from sklearn.svm import SVC\n",
        "svmModel = SVC(kernel='linear', C=1E2, probability=True)\n",
        "def svm_fit():\n",
        "  with tf.device('/device:GPU:0'):\n",
        "    svmModel.fit(train_x, train_y)\n",
        "\n",
        "svm_fit()"
      ]
    },
    {
      "cell_type": "markdown",
      "metadata": {
        "id": "ALrH5HMz9Qa6"
      },
      "source": [
        "**SVM CONFUSION MATRIX / CLASSIFICATION REPORT**"
      ]
    },
    {
      "cell_type": "code",
      "execution_count": null,
      "metadata": {
        "colab": {
          "base_uri": "https://localhost:8080/",
          "height": 694
        },
        "id": "_JOdAT1U0QU3",
        "outputId": "f1d775aa-12fb-40e0-cc5c-ba8d59daf2f1"
      },
      "outputs": [
        {
          "output_type": "stream",
          "name": "stdout",
          "text": [
            "--- Linear SVC Confusion Matrix ---\n",
            "[[673   7]\n",
            " [ 13 356]]\n",
            "\n",
            "--- Linear SVC Results ---\n",
            "True  Negatives  : 673\n",
            "False Positives  : 7\n",
            "False Negatives  : 13\n",
            "True  Positives  : 356\n",
            "False Positive Rate  :  0.010294117647058823\n",
            "False Negative Rate  :  0.03523035230352303\n",
            "\n",
            "--- Linear SVC Classification Report  ---\n",
            "              precision    recall  f1-score   support\n",
            "\n",
            "           0       0.98      0.99      0.99       680\n",
            "           1       0.98      0.96      0.97       369\n",
            "\n",
            "    accuracy                           0.98      1049\n",
            "   macro avg       0.98      0.98      0.98      1049\n",
            "weighted avg       0.98      0.98      0.98      1049\n",
            "\n",
            "\n"
          ]
        },
        {
          "output_type": "display_data",
          "data": {
            "image/png": "[encoded data removed]",
            "text/plain": [
              "<Figure size 432x288 with 2 Axes>"
            ]
          },
          "metadata": {
            "needs_background": "light"
          }
        }
      ],
      "source": [
        "print(\"--- Linear SVC Confusion Matrix ---\")\n",
        "ypredSVM = svmModel.predict(test_x)\n",
        "confused=confusion_matrix(test_y, ypredSVM)\n",
        "\n",
        "matrixImg = ConfusionMatrixDisplay.from_estimator(\n",
        "    svmModel,\n",
        "    test_x,\n",
        "    test_y,\n",
        "    cmap=plt.cm.Reds,\n",
        ")\n",
        "matrixImg.ax_.set_title(\"Linear SVC Confusion Matrix\")\n",
        "print(matrixImg.confusion_matrix)\n",
        "print()\n",
        "\n",
        "print(\"--- Linear SVC Results ---\")\n",
        "print(\"True  Negatives  : \" + str(confused[0][0]))\n",
        "print(\"False Positives  : \" + str(confused[0][1]))\n",
        "print(\"False Negatives  : \" + str(confused[1][0]))\n",
        "print(\"True  Positives  : \" + str(confused[1][1]))\n",
        "print(\"False Positive Rate  : \", confused[0][1]/(confused[0][1]+confused[0][0]))\n",
        "print(\"False Negative Rate  : \", confused[1][0]/(confused[1][0]+confused[1][1]))\n",
        "\n",
        "print()\n",
        "print(\"--- Linear SVC Classification Report  ---\")\n",
        "print(metrics.classification_report(test_y, ypredSVM))\n",
        "print()\n",
        "\n",
        "#tn, fp, fn, tp = confused.ravel()\n",
        "#print(\"| TN: \", tn, \"| FP: \", fp , \"| FN: \", fn, \"| TP: \", tp, \"|\")"
      ]
    },
    {
      "cell_type": "markdown",
      "metadata": {
        "id": "TO2W-LXpIbfb"
      },
      "source": [
        "**Naive Bayes Classifier**"
      ]
    },
    {
      "cell_type": "code",
      "execution_count": null,
      "metadata": {
        "colab": {
          "base_uri": "https://localhost:8080/"
        },
        "id": "ZqrHLBvMH4d0",
        "outputId": "77412765-5d21-4339-8659-0ab57f6beea3"
      },
      "outputs": [
        {
          "output_type": "stream",
          "name": "stderr",
          "text": [
            "/usr/local/lib/python3.7/dist-packages/sklearn/utils/validation.py:968: FutureWarning: Arrays of bytes/strings is being converted to decimal numbers if dtype='numeric'. This behavior is deprecated in 0.24 and will be removed in 1.1 (renaming of 0.26). Please convert your data to numeric values explicitly instead.\n",
            "  estimator=estimator,\n"
          ]
        }
      ],
      "source": [
        "from sklearn.naive_bayes import GaussianNB\n",
        "naiveBayesModel = GaussianNB()\n",
        "def nb_fit():\n",
        "  with tf.device('/device:GPU:0'):\n",
        "    naiveBayesModel.fit(train_x, train_y)\n",
        "\n",
        "nb_fit()"
      ]
    },
    {
      "cell_type": "markdown",
      "metadata": {
        "id": "ySv4U0L3IHE2"
      },
      "source": [
        "**Naive Bayes CONFUSION MATRIX / CLASSIFICATION REPORT**"
      ]
    },
    {
      "cell_type": "code",
      "execution_count": null,
      "metadata": {
        "colab": {
          "base_uri": "https://localhost:8080/",
          "height": 784
        },
        "id": "mh8aQuxHIKl9",
        "outputId": "16e7f212-2d41-4dc4-b94e-5d87b700a001"
      },
      "outputs": [
        {
          "output_type": "stream",
          "name": "stdout",
          "text": [
            "--- Naive Bayes Confusion Matrix ---\n",
            "[[668  12]\n",
            " [ 65 304]]\n",
            "\n",
            "--- Naive Bayes Results ---\n",
            "True  Negatives  : 668\n",
            "False Positives  : 12\n",
            "False Negatives  : 65\n",
            "True  Positives  : 304\n",
            "False Positive Rate  :  0.01764705882352941\n",
            "False Negative Rate  :  0.17615176151761516\n",
            "\n",
            "--- Naive Bayes Report  ---\n",
            "              precision    recall  f1-score   support\n",
            "\n",
            "           0       0.91      0.98      0.95       680\n",
            "           1       0.96      0.82      0.89       369\n",
            "\n",
            "    accuracy                           0.93      1049\n",
            "   macro avg       0.94      0.90      0.92      1049\n",
            "weighted avg       0.93      0.93      0.93      1049\n",
            "\n",
            "\n"
          ]
        },
        {
          "output_type": "stream",
          "name": "stderr",
          "text": [
            "/usr/local/lib/python3.7/dist-packages/sklearn/base.py:561: FutureWarning: Arrays of bytes/strings is being converted to decimal numbers if dtype='numeric'. This behavior is deprecated in 0.24 and will be removed in 1.1 (renaming of 0.26). Please convert your data to numeric values explicitly instead.\n",
            "  X = check_array(X, **check_params)\n",
            "/usr/local/lib/python3.7/dist-packages/sklearn/base.py:561: FutureWarning: Arrays of bytes/strings is being converted to decimal numbers if dtype='numeric'. This behavior is deprecated in 0.24 and will be removed in 1.1 (renaming of 0.26). Please convert your data to numeric values explicitly instead.\n",
            "  X = check_array(X, **check_params)\n"
          ]
        },
        {
          "output_type": "display_data",
          "data": {
            "image/png": "[encoded data removed]",
            "text/plain": [
              "<Figure size 432x288 with 2 Axes>"
            ]
          },
          "metadata": {
            "needs_background": "light"
          }
        }
      ],
      "source": [
        "print(\"--- Naive Bayes Confusion Matrix ---\")\n",
        "ypredNB = naiveBayesModel.predict(test_x)\n",
        "naiveBayesConfused = confusion_matrix(test_y, ypredNB)\n",
        "\n",
        "matrixImg = ConfusionMatrixDisplay.from_estimator(\n",
        "    naiveBayesModel,\n",
        "    test_x,\n",
        "    test_y,\n",
        "    cmap=plt.cm.Blues,\n",
        ")\n",
        "matrixImg.ax_.set_title(\"Gaussian Naive Bayes Confusion Matrix\")\n",
        "print(matrixImg.confusion_matrix)\n",
        "print()\n",
        "\n",
        "print(\"--- Naive Bayes Results ---\")\n",
        "print(\"True  Negatives  : \" + str(naiveBayesConfused[0][0]))\n",
        "print(\"False Positives  : \" + str(naiveBayesConfused[0][1]))\n",
        "print(\"False Negatives  : \" + str(naiveBayesConfused[1][0]))\n",
        "print(\"True  Positives  : \" + str(naiveBayesConfused[1][1]))\n",
        "print(\"False Positive Rate  : \", naiveBayesConfused[0][1]/(naiveBayesConfused[0][1]+naiveBayesConfused[0][0]))\n",
        "print(\"False Negative Rate  : \", naiveBayesConfused[1][0]/(naiveBayesConfused[1][0]+naiveBayesConfused[1][1]))\n",
        "\n",
        "print()\n",
        "print(\"--- Naive Bayes Report  ---\")\n",
        "print(metrics.classification_report(test_y, ypredNB))\n",
        "print()\n",
        "\n",
        "# tn, fp, fn, tp = naiveBayesConfused.ravel()\n",
        "# print(\"| TN: \", tn, \"| FP: \", fp , \"| FN: \", fn, \"| TP: \", tp, \"|\")"
      ]
    },
    {
      "cell_type": "markdown",
      "metadata": {
        "id": "K-YvHqaxeWbL"
      },
      "source": [
        "**Kth Nearest Neighbor Classifier**"
      ]
    },
    {
      "cell_type": "code",
      "execution_count": null,
      "metadata": {
        "colab": {
          "base_uri": "https://localhost:8080/"
        },
        "id": "zYb1Si5iecRl",
        "outputId": "b3f39feb-d6f7-4445-d47b-d6f185966444"
      },
      "outputs": [
        {
          "output_type": "stream",
          "name": "stderr",
          "text": [
            "/usr/local/lib/python3.7/dist-packages/sklearn/utils/validation.py:968: FutureWarning: Arrays of bytes/strings is being converted to decimal numbers if dtype='numeric'. This behavior is deprecated in 0.24 and will be removed in 1.1 (renaming of 0.26). Please convert your data to numeric values explicitly instead.\n",
            "  estimator=estimator,\n"
          ]
        }
      ],
      "source": [
        "from sklearn.neighbors import KNeighborsClassifier\n",
        "\n",
        "kthModel = KNeighborsClassifier(n_neighbors=5)\n",
        "def knn_fit():\n",
        "  with tf.device('/device:GPU:0'):\n",
        "    kthModel.fit(train_x, train_y)\n",
        "\n",
        "knn_fit()"
      ]
    },
    {
      "cell_type": "markdown",
      "metadata": {
        "id": "UPkGGVtvez7a"
      },
      "source": [
        "**Kth Nearest Neighbor CONFUSION MATRIX / CLASSIFICATION REPORT**"
      ]
    },
    {
      "cell_type": "code",
      "execution_count": null,
      "metadata": {
        "colab": {
          "base_uri": "https://localhost:8080/",
          "height": 784
        },
        "id": "SJ-di35Ne5Ra",
        "outputId": "f431d45f-3788-4e2f-d907-841bcf6d1f90"
      },
      "outputs": [
        {
          "output_type": "stream",
          "name": "stdout",
          "text": [
            "--- Kth Nearest Neighbor Confusion Matrix ---\n",
            "[[675   5]\n",
            " [ 19 350]]\n",
            "\n",
            "--- Kth Nearest Neighbor Results ---\n",
            "True  Negatives  : 675\n",
            "False Positives  : 5\n",
            "False Negatives  : 19\n",
            "True  Positives  : 350\n",
            "False Positive Rate  :  0.007352941176470588\n",
            "False Negative Rate  :  "
          ]
        },
        {
          "output_type": "stream",
          "name": "stderr",
          "text": [
            "/usr/local/lib/python3.7/dist-packages/sklearn/base.py:561: FutureWarning: Arrays of bytes/strings is being converted to decimal numbers if dtype='numeric'. This behavior is deprecated in 0.24 and will be removed in 1.1 (renaming of 0.26). Please convert your data to numeric values explicitly instead.\n",
            "  X = check_array(X, **check_params)\n",
            "/usr/local/lib/python3.7/dist-packages/sklearn/base.py:561: FutureWarning: Arrays of bytes/strings is being converted to decimal numbers if dtype='numeric'. This behavior is deprecated in 0.24 and will be removed in 1.1 (renaming of 0.26). Please convert your data to numeric values explicitly instead.\n",
            "  X = check_array(X, **check_params)\n"
          ]
        },
        {
          "output_type": "stream",
          "name": "stdout",
          "text": [
            "0.051490514905149054\n",
            "\n",
            "--- Kth Nearest Neighbor Report  ---\n",
            "              precision    recall  f1-score   support\n",
            "\n",
            "           0       0.97      0.99      0.98       680\n",
            "           1       0.99      0.95      0.97       369\n",
            "\n",
            "    accuracy                           0.98      1049\n",
            "   macro avg       0.98      0.97      0.97      1049\n",
            "weighted avg       0.98      0.98      0.98      1049\n",
            "\n",
            "\n"
          ]
        },
        {
          "output_type": "display_data",
          "data": {
            "image/png": "[encoded data removed]",
            "text/plain": [
              "<Figure size 432x288 with 2 Axes>"
            ]
          },
          "metadata": {
            "needs_background": "light"
          }
        }
      ],
      "source": [
        "print(\"--- Kth Nearest Neighbor Confusion Matrix ---\")\n",
        "ypredKNN = kthModel.predict(test_x)\n",
        "kthConfused = confusion_matrix(test_y, ypredKNN)\n",
        "\n",
        "matrixImg = ConfusionMatrixDisplay.from_estimator(\n",
        "    kthModel,\n",
        "    test_x,\n",
        "    test_y,\n",
        "    cmap=plt.cm.Purples,\n",
        ")\n",
        "matrixImg.ax_.set_title(\"Kth Nearest Neighbor Confusion Matrix\")\n",
        "print(matrixImg.confusion_matrix)\n",
        "print()\n",
        "\n",
        "print(\"--- Kth Nearest Neighbor Results ---\")\n",
        "print(\"True  Negatives  : \" + str(kthConfused[0][0]))\n",
        "print(\"False Positives  : \" + str(kthConfused[0][1]))\n",
        "print(\"False Negatives  : \" + str(kthConfused[1][0]))\n",
        "print(\"True  Positives  : \" + str(kthConfused[1][1]))\n",
        "print(\"False Positive Rate  : \", kthConfused[0][1]/(kthConfused[0][1]+kthConfused[0][0]))\n",
        "print(\"False Negative Rate  : \", kthConfused[1][0]/(kthConfused[1][0]+kthConfused[1][1]))\n",
        "\n",
        "print()\n",
        "print(\"--- Kth Nearest Neighbor Report  ---\")\n",
        "print(metrics.classification_report(test_y, ypredKNN))\n",
        "print()\n",
        "\n",
        "# tn, fp, fn, tp = kthConfused.ravel()\n",
        "# print(\"| TN: \", tn, \"| FP: \", fp , \"| FN: \", fn, \"| TP: \", tp, \"|\")"
      ]
    },
    {
      "cell_type": "markdown",
      "metadata": {
        "id": "RqFT6M0AOYKY"
      },
      "source": [
        "**ROC CURVES**"
      ]
    },
    {
      "cell_type": "code",
      "execution_count": null,
      "metadata": {
        "colab": {
          "base_uri": "https://localhost:8080/",
          "height": 454
        },
        "id": "TduoRfEGOciq",
        "outputId": "574afd6f-dd7e-4331-8d7c-72cc032e40a8"
      },
      "outputs": [
        {
          "output_type": "stream",
          "name": "stderr",
          "text": [
            "/usr/local/lib/python3.7/dist-packages/sklearn/base.py:561: FutureWarning: Arrays of bytes/strings is being converted to decimal numbers if dtype='numeric'. This behavior is deprecated in 0.24 and will be removed in 1.1 (renaming of 0.26). Please convert your data to numeric values explicitly instead.\n",
            "  X = check_array(X, **check_params)\n",
            "/usr/local/lib/python3.7/dist-packages/sklearn/base.py:561: FutureWarning: Arrays of bytes/strings is being converted to decimal numbers if dtype='numeric'. This behavior is deprecated in 0.24 and will be removed in 1.1 (renaming of 0.26). Please convert your data to numeric values explicitly instead.\n",
            "  X = check_array(X, **check_params)\n"
          ]
        },
        {
          "output_type": "stream",
          "name": "stdout",
          "text": [
            "rfc_auc 0.9788239279451618\n",
            "svm_auc 0.977237765024709\n",
            "naiveBayes_auc 0.9031005898294278\n",
            "kth_auc 0.9705782719591902\n"
          ]
        },
        {
          "output_type": "display_data",
          "data": {
            "image/png": "[encoded data removed]",
            "text/plain": [
              "<Figure size 432x288 with 1 Axes>"
            ]
          },
          "metadata": {
            "needs_background": "light"
          }
        }
      ],
      "source": [
        "from sklearn.metrics import roc_curve\n",
        "from sklearn.metrics import roc_auc_score\n",
        "from matplotlib import pyplot\n",
        "\n",
        "rfc_yProb = rfcModel.predict_proba(test_x)\n",
        "svm_yProb = svmModel.predict_proba(test_x)\n",
        "nb_yProb  = naiveBayesModel.predict_proba(test_x)\n",
        "kth_yProb = kthModel.predict_proba(test_x)\n",
        "\n",
        "rfc_auc = roc_auc_score(test_y, ypredRFC)\n",
        "svm_auc = roc_auc_score(test_y, ypredSVM)\n",
        "naiveBayes_auc = roc_auc_score(test_y, ypredNB)\n",
        "kth_auc = roc_auc_score(test_y, ypredKNN)\n",
        "\n",
        "print(\"rfc_auc\", rfc_auc)\n",
        "print(\"svm_auc\", svm_auc)\n",
        "print(\"naiveBayes_auc\", naiveBayes_auc)\n",
        "print(\"kth_auc\", kth_auc)\n",
        "\n",
        "\n",
        "rfc_fpr, rfc_tpr , _ = roc_curve(test_y, rfc_yProb[:,1])\n",
        "svm_fpr, svm_tpr , _ = roc_curve(test_y, svm_yProb[:,1])\n",
        "naiveBayes_fpr, naiveBayes_tpr , _ = roc_curve(test_y, nb_yProb[:,1])\n",
        "kth_fpr, kth_tpr , _ = roc_curve(test_y, kth_yProb[:,1])\n",
        "ns_probs = [0 for _ in range(len(test_y))]\n",
        "ns_fpr, ns_tpr, _ = roc_curve(test_y, ns_probs)\n",
        "\n",
        "pyplot.plot(ns_fpr, ns_tpr, linestyle='--')\n",
        "pyplot.plot(rfc_fpr, rfc_tpr, marker='.',label = \"Random Forest\")\n",
        "pyplot.plot(svm_fpr, svm_tpr, marker='.',label = \"SVM\")\n",
        "pyplot.plot(naiveBayes_fpr, naiveBayes_tpr, marker='.',label = \"Naive Bayes\")\n",
        "pyplot.plot(kth_fpr, kth_tpr, marker='.',label = \"Kth Nearest Neighbor\")\n",
        "\n",
        "pyplot.xlabel('False Positive Rate')\n",
        "pyplot.ylabel('True Positive Rate')\n",
        "plt.title(\"ROC Curve\")\n",
        "\n",
        "pyplot.legend()\n",
        "\n",
        "pyplot.show()"
      ]
    },
    {
      "cell_type": "code",
      "execution_count": null,
      "metadata": {
        "colab": {
          "base_uri": "https://localhost:8080/"
        },
        "id": "aFVyZlReLY3Z",
        "outputId": "d3f53f07-da06-4024-c9ab-800f3b7f6aee"
      },
      "outputs": [
        {
          "output_type": "stream",
          "name": "stdout",
          "text": [
            "RFC 10-Fold: Mean: 0.9815721362855122  Std Dev: 0.006927142224132144\n",
            "SVM 10-Fold: Mean: 0.9777575573753918  Std Dev: 0.009740465023163473\n"
          ]
        },
        {
          "output_type": "stream",
          "name": "stderr",
          "text": [
            "/usr/local/lib/python3.7/dist-packages/sklearn/utils/validation.py:968: FutureWarning: Arrays of bytes/strings is being converted to decimal numbers if dtype='numeric'. This behavior is deprecated in 0.24 and will be removed in 1.1 (renaming of 0.26). Please convert your data to numeric values explicitly instead.\n",
            "  estimator=estimator,\n",
            "/usr/local/lib/python3.7/dist-packages/sklearn/base.py:561: FutureWarning: Arrays of bytes/strings is being converted to decimal numbers if dtype='numeric'. This behavior is deprecated in 0.24 and will be removed in 1.1 (renaming of 0.26). Please convert your data to numeric values explicitly instead.\n",
            "  X = check_array(X, **check_params)\n",
            "/usr/local/lib/python3.7/dist-packages/sklearn/utils/validation.py:968: FutureWarning: Arrays of bytes/strings is being converted to decimal numbers if dtype='numeric'. This behavior is deprecated in 0.24 and will be removed in 1.1 (renaming of 0.26). Please convert your data to numeric values explicitly instead.\n",
            "  estimator=estimator,\n",
            "/usr/local/lib/python3.7/dist-packages/sklearn/base.py:561: FutureWarning: Arrays of bytes/strings is being converted to decimal numbers if dtype='numeric'. This behavior is deprecated in 0.24 and will be removed in 1.1 (renaming of 0.26). Please convert your data to numeric values explicitly instead.\n",
            "  X = check_array(X, **check_params)\n",
            "/usr/local/lib/python3.7/dist-packages/sklearn/utils/validation.py:968: FutureWarning: Arrays of bytes/strings is being converted to decimal numbers if dtype='numeric'. This behavior is deprecated in 0.24 and will be removed in 1.1 (renaming of 0.26). Please convert your data to numeric values explicitly instead.\n",
            "  estimator=estimator,\n",
            "/usr/local/lib/python3.7/dist-packages/sklearn/base.py:561: FutureWarning: Arrays of bytes/strings is being converted to decimal numbers if dtype='numeric'. This behavior is deprecated in 0.24 and will be removed in 1.1 (renaming of 0.26). Please convert your data to numeric values explicitly instead.\n",
            "  X = check_array(X, **check_params)\n",
            "/usr/local/lib/python3.7/dist-packages/sklearn/utils/validation.py:968: FutureWarning: Arrays of bytes/strings is being converted to decimal numbers if dtype='numeric'. This behavior is deprecated in 0.24 and will be removed in 1.1 (renaming of 0.26). Please convert your data to numeric values explicitly instead.\n",
            "  estimator=estimator,\n",
            "/usr/local/lib/python3.7/dist-packages/sklearn/base.py:561: FutureWarning: Arrays of bytes/strings is being converted to decimal numbers if dtype='numeric'. This behavior is deprecated in 0.24 and will be removed in 1.1 (renaming of 0.26). Please convert your data to numeric values explicitly instead.\n",
            "  X = check_array(X, **check_params)\n",
            "/usr/local/lib/python3.7/dist-packages/sklearn/utils/validation.py:968: FutureWarning: Arrays of bytes/strings is being converted to decimal numbers if dtype='numeric'. This behavior is deprecated in 0.24 and will be removed in 1.1 (renaming of 0.26). Please convert your data to numeric values explicitly instead.\n",
            "  estimator=estimator,\n",
            "/usr/local/lib/python3.7/dist-packages/sklearn/base.py:561: FutureWarning: Arrays of bytes/strings is being converted to decimal numbers if dtype='numeric'. This behavior is deprecated in 0.24 and will be removed in 1.1 (renaming of 0.26). Please convert your data to numeric values explicitly instead.\n",
            "  X = check_array(X, **check_params)\n",
            "/usr/local/lib/python3.7/dist-packages/sklearn/utils/validation.py:968: FutureWarning: Arrays of bytes/strings is being converted to decimal numbers if dtype='numeric'. This behavior is deprecated in 0.24 and will be removed in 1.1 (renaming of 0.26). Please convert your data to numeric values explicitly instead.\n",
            "  estimator=estimator,\n",
            "/usr/local/lib/python3.7/dist-packages/sklearn/base.py:561: FutureWarning: Arrays of bytes/strings is being converted to decimal numbers if dtype='numeric'. This behavior is deprecated in 0.24 and will be removed in 1.1 (renaming of 0.26). Please convert your data to numeric values explicitly instead.\n",
            "  X = check_array(X, **check_params)\n",
            "/usr/local/lib/python3.7/dist-packages/sklearn/utils/validation.py:968: FutureWarning: Arrays of bytes/strings is being converted to decimal numbers if dtype='numeric'. This behavior is deprecated in 0.24 and will be removed in 1.1 (renaming of 0.26). Please convert your data to numeric values explicitly instead.\n",
            "  estimator=estimator,\n",
            "/usr/local/lib/python3.7/dist-packages/sklearn/base.py:561: FutureWarning: Arrays of bytes/strings is being converted to decimal numbers if dtype='numeric'. This behavior is deprecated in 0.24 and will be removed in 1.1 (renaming of 0.26). Please convert your data to numeric values explicitly instead.\n",
            "  X = check_array(X, **check_params)\n",
            "/usr/local/lib/python3.7/dist-packages/sklearn/utils/validation.py:968: FutureWarning: Arrays of bytes/strings is being converted to decimal numbers if dtype='numeric'. This behavior is deprecated in 0.24 and will be removed in 1.1 (renaming of 0.26). Please convert your data to numeric values explicitly instead.\n",
            "  estimator=estimator,\n",
            "/usr/local/lib/python3.7/dist-packages/sklearn/base.py:561: FutureWarning: Arrays of bytes/strings is being converted to decimal numbers if dtype='numeric'. This behavior is deprecated in 0.24 and will be removed in 1.1 (renaming of 0.26). Please convert your data to numeric values explicitly instead.\n",
            "  X = check_array(X, **check_params)\n",
            "/usr/local/lib/python3.7/dist-packages/sklearn/utils/validation.py:968: FutureWarning: Arrays of bytes/strings is being converted to decimal numbers if dtype='numeric'. This behavior is deprecated in 0.24 and will be removed in 1.1 (renaming of 0.26). Please convert your data to numeric values explicitly instead.\n",
            "  estimator=estimator,\n",
            "/usr/local/lib/python3.7/dist-packages/sklearn/base.py:561: FutureWarning: Arrays of bytes/strings is being converted to decimal numbers if dtype='numeric'. This behavior is deprecated in 0.24 and will be removed in 1.1 (renaming of 0.26). Please convert your data to numeric values explicitly instead.\n",
            "  X = check_array(X, **check_params)\n",
            "/usr/local/lib/python3.7/dist-packages/sklearn/utils/validation.py:968: FutureWarning: Arrays of bytes/strings is being converted to decimal numbers if dtype='numeric'. This behavior is deprecated in 0.24 and will be removed in 1.1 (renaming of 0.26). Please convert your data to numeric values explicitly instead.\n",
            "  estimator=estimator,\n",
            "/usr/local/lib/python3.7/dist-packages/sklearn/base.py:561: FutureWarning: Arrays of bytes/strings is being converted to decimal numbers if dtype='numeric'. This behavior is deprecated in 0.24 and will be removed in 1.1 (renaming of 0.26). Please convert your data to numeric values explicitly instead.\n",
            "  X = check_array(X, **check_params)\n",
            "/usr/local/lib/python3.7/dist-packages/sklearn/utils/validation.py:968: FutureWarning: Arrays of bytes/strings is being converted to decimal numbers if dtype='numeric'. This behavior is deprecated in 0.24 and will be removed in 1.1 (renaming of 0.26). Please convert your data to numeric values explicitly instead.\n",
            "  estimator=estimator,\n",
            "/usr/local/lib/python3.7/dist-packages/sklearn/base.py:561: FutureWarning: Arrays of bytes/strings is being converted to decimal numbers if dtype='numeric'. This behavior is deprecated in 0.24 and will be removed in 1.1 (renaming of 0.26). Please convert your data to numeric values explicitly instead.\n",
            "  X = check_array(X, **check_params)\n",
            "/usr/local/lib/python3.7/dist-packages/sklearn/utils/validation.py:968: FutureWarning: Arrays of bytes/strings is being converted to decimal numbers if dtype='numeric'. This behavior is deprecated in 0.24 and will be removed in 1.1 (renaming of 0.26). Please convert your data to numeric values explicitly instead.\n",
            "  estimator=estimator,\n",
            "/usr/local/lib/python3.7/dist-packages/sklearn/base.py:561: FutureWarning: Arrays of bytes/strings is being converted to decimal numbers if dtype='numeric'. This behavior is deprecated in 0.24 and will be removed in 1.1 (renaming of 0.26). Please convert your data to numeric values explicitly instead.\n",
            "  X = check_array(X, **check_params)\n",
            "/usr/local/lib/python3.7/dist-packages/sklearn/utils/validation.py:968: FutureWarning: Arrays of bytes/strings is being converted to decimal numbers if dtype='numeric'. This behavior is deprecated in 0.24 and will be removed in 1.1 (renaming of 0.26). Please convert your data to numeric values explicitly instead.\n",
            "  estimator=estimator,\n",
            "/usr/local/lib/python3.7/dist-packages/sklearn/base.py:561: FutureWarning: Arrays of bytes/strings is being converted to decimal numbers if dtype='numeric'. This behavior is deprecated in 0.24 and will be removed in 1.1 (renaming of 0.26). Please convert your data to numeric values explicitly instead.\n",
            "  X = check_array(X, **check_params)\n",
            "/usr/local/lib/python3.7/dist-packages/sklearn/utils/validation.py:968: FutureWarning: Arrays of bytes/strings is being converted to decimal numbers if dtype='numeric'. This behavior is deprecated in 0.24 and will be removed in 1.1 (renaming of 0.26). Please convert your data to numeric values explicitly instead.\n",
            "  estimator=estimator,\n",
            "/usr/local/lib/python3.7/dist-packages/sklearn/base.py:561: FutureWarning: Arrays of bytes/strings is being converted to decimal numbers if dtype='numeric'. This behavior is deprecated in 0.24 and will be removed in 1.1 (renaming of 0.26). Please convert your data to numeric values explicitly instead.\n",
            "  X = check_array(X, **check_params)\n",
            "/usr/local/lib/python3.7/dist-packages/sklearn/utils/validation.py:968: FutureWarning: Arrays of bytes/strings is being converted to decimal numbers if dtype='numeric'. This behavior is deprecated in 0.24 and will be removed in 1.1 (renaming of 0.26). Please convert your data to numeric values explicitly instead.\n",
            "  estimator=estimator,\n",
            "/usr/local/lib/python3.7/dist-packages/sklearn/base.py:561: FutureWarning: Arrays of bytes/strings is being converted to decimal numbers if dtype='numeric'. This behavior is deprecated in 0.24 and will be removed in 1.1 (renaming of 0.26). Please convert your data to numeric values explicitly instead.\n",
            "  X = check_array(X, **check_params)\n"
          ]
        },
        {
          "output_type": "stream",
          "name": "stdout",
          "text": [
            "Naive Bayes: 10-Fold: Mean: 0.9396178343949046  Std Dev: 0.012173337366502085\n",
            "10-Fold: Mean: 0.977125669800829  Std Dev: 0.007346565366099592\n"
          ]
        },
        {
          "output_type": "stream",
          "name": "stderr",
          "text": [
            "/usr/local/lib/python3.7/dist-packages/sklearn/utils/validation.py:968: FutureWarning: Arrays of bytes/strings is being converted to decimal numbers if dtype='numeric'. This behavior is deprecated in 0.24 and will be removed in 1.1 (renaming of 0.26). Please convert your data to numeric values explicitly instead.\n",
            "  estimator=estimator,\n",
            "/usr/local/lib/python3.7/dist-packages/sklearn/base.py:561: FutureWarning: Arrays of bytes/strings is being converted to decimal numbers if dtype='numeric'. This behavior is deprecated in 0.24 and will be removed in 1.1 (renaming of 0.26). Please convert your data to numeric values explicitly instead.\n",
            "  X = check_array(X, **check_params)\n",
            "/usr/local/lib/python3.7/dist-packages/sklearn/utils/validation.py:968: FutureWarning: Arrays of bytes/strings is being converted to decimal numbers if dtype='numeric'. This behavior is deprecated in 0.24 and will be removed in 1.1 (renaming of 0.26). Please convert your data to numeric values explicitly instead.\n",
            "  estimator=estimator,\n",
            "/usr/local/lib/python3.7/dist-packages/sklearn/base.py:561: FutureWarning: Arrays of bytes/strings is being converted to decimal numbers if dtype='numeric'. This behavior is deprecated in 0.24 and will be removed in 1.1 (renaming of 0.26). Please convert your data to numeric values explicitly instead.\n",
            "  X = check_array(X, **check_params)\n",
            "/usr/local/lib/python3.7/dist-packages/sklearn/utils/validation.py:968: FutureWarning: Arrays of bytes/strings is being converted to decimal numbers if dtype='numeric'. This behavior is deprecated in 0.24 and will be removed in 1.1 (renaming of 0.26). Please convert your data to numeric values explicitly instead.\n",
            "  estimator=estimator,\n",
            "/usr/local/lib/python3.7/dist-packages/sklearn/base.py:561: FutureWarning: Arrays of bytes/strings is being converted to decimal numbers if dtype='numeric'. This behavior is deprecated in 0.24 and will be removed in 1.1 (renaming of 0.26). Please convert your data to numeric values explicitly instead.\n",
            "  X = check_array(X, **check_params)\n",
            "/usr/local/lib/python3.7/dist-packages/sklearn/utils/validation.py:968: FutureWarning: Arrays of bytes/strings is being converted to decimal numbers if dtype='numeric'. This behavior is deprecated in 0.24 and will be removed in 1.1 (renaming of 0.26). Please convert your data to numeric values explicitly instead.\n",
            "  estimator=estimator,\n",
            "/usr/local/lib/python3.7/dist-packages/sklearn/base.py:561: FutureWarning: Arrays of bytes/strings is being converted to decimal numbers if dtype='numeric'. This behavior is deprecated in 0.24 and will be removed in 1.1 (renaming of 0.26). Please convert your data to numeric values explicitly instead.\n",
            "  X = check_array(X, **check_params)\n",
            "/usr/local/lib/python3.7/dist-packages/sklearn/utils/validation.py:968: FutureWarning: Arrays of bytes/strings is being converted to decimal numbers if dtype='numeric'. This behavior is deprecated in 0.24 and will be removed in 1.1 (renaming of 0.26). Please convert your data to numeric values explicitly instead.\n",
            "  estimator=estimator,\n",
            "/usr/local/lib/python3.7/dist-packages/sklearn/base.py:561: FutureWarning: Arrays of bytes/strings is being converted to decimal numbers if dtype='numeric'. This behavior is deprecated in 0.24 and will be removed in 1.1 (renaming of 0.26). Please convert your data to numeric values explicitly instead.\n",
            "  X = check_array(X, **check_params)\n"
          ]
        }
      ],
      "source": [
        "def cross_scores():\n",
        "  with tf.device('/device:GPU:0'):\n",
        "    scores = cross_val_score(rfcModel, train_x, train_y, cv = 10, scoring='accuracy')\n",
        "    print(\"RFC 10-Fold: Mean:\", scores.mean(), \" Std Dev:\", scores.std())\n",
        "\n",
        "    scores = cross_val_score(svmModel, train_x, train_y, cv = 10, scoring='accuracy')\n",
        "    print(\"SVM 10-Fold: Mean:\", scores.mean(), \" Std Dev:\", scores.std())\n",
        "\n",
        "    scores = cross_val_score(naiveBayesModel, train_x, train_y, cv = 10, scoring='accuracy')\n",
        "    print(\"Naive Bayes: 10-Fold: Mean:\", scores.mean(), \" Std Dev:\", scores.std())\n",
        "\n",
        "    scores = cross_val_score(kthModel, train_x, train_y, cv = 10, scoring='accuracy')\n",
        "    print(\"10-Fold: Mean:\", scores.mean(), \" Std Dev:\", scores.std())\n",
        "\n",
        "cross_scores()"
      ]
    }
  ],
  "metadata": {
    "accelerator": "GPU",
    "colab": {
      "collapsed_sections": [],
      "name": "Project Notebook",
      "provenance": [],
      "include_colab_link": true
    },
    "kernelspec": {
      "display_name": "Python 3",
      "name": "python3"
    },
    "language_info": {
      "name": "python"
    }
  },
  "nbformat": 4,
  "nbformat_minor": 0
}